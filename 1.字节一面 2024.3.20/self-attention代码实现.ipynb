{
 "cells": [
  {
   "cell_type": "markdown",
   "source": [
    "# 自注意力机制"
   ],
   "metadata": {
    "collapsed": false
   },
   "id": "72a2e78657074de"
  },
  {
   "cell_type": "code",
   "outputs": [],
   "source": [
    "import math\n",
    "\n",
    "import torch\n",
    "from torch import nn"
   ],
   "metadata": {
    "collapsed": true,
    "ExecuteTime": {
     "end_time": "2024-03-21T06:12:23.840926Z",
     "start_time": "2024-03-21T06:12:22.721589Z"
    }
   },
   "id": "initial_id",
   "execution_count": 1
  },
  {
   "cell_type": "code",
   "outputs": [],
   "source": [
    "class SelfAttention(nn.Module):\n",
    "    def __init__(self, d_model):\n",
    "        super(SelfAttention, self).__init__()\n",
    "        self.d_model = d_model\n",
    "        # 定义W_q,W_k,W_v\n",
    "        self.Q_linear = nn.Linear(d_model, d_model)\n",
    "        self.K_linear = nn.Linear(d_model, d_model)\n",
    "        self.V_linear = nn.Linear(d_model, d_model)\n",
    "\n",
    "    def forward(self, inputs, mask=None):\n",
    "        size = inputs.size()\n",
    "        #计算生成QKV矩阵\n",
    "        Q = self.Q_linear(inputs)\n",
    "        K = self.K_linear(inputs)\n",
    "        V = self.V_linear(inputs)\n",
    "\n",
    "        #下面开始计算啦\n",
    "        QK = torch.matmul(Q, K) / math.sqrt(self.d_model)\n",
    "\n",
    "        #下面开始mask\n",
    "        if mask:\n",
    "            QK = QK.masked_fill(mask == 0, -1e9)\n",
    "\n",
    "        #下面开始softmax\n",
    "        QK = torch.softmax(QK, dim=-1)\n",
    "        #print('\\\\nalpha is :', alpha)\n",
    "\n",
    "        out = torch.matmul(QK, V)\n",
    "\n",
    "        return out"
   ],
   "metadata": {
    "collapsed": false
   },
   "id": "b9b5cdcf8ea2f749"
  }
 ],
 "metadata": {
  "kernelspec": {
   "display_name": "Python 3",
   "language": "python",
   "name": "python3"
  },
  "language_info": {
   "codemirror_mode": {
    "name": "ipython",
    "version": 2
   },
   "file_extension": ".py",
   "mimetype": "text/x-python",
   "name": "python",
   "nbconvert_exporter": "python",
   "pygments_lexer": "ipython2",
   "version": "2.7.6"
  }
 },
 "nbformat": 4,
 "nbformat_minor": 5
}
