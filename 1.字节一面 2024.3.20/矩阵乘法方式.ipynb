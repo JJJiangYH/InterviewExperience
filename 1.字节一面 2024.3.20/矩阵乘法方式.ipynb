{
 "cells": [
  {
   "cell_type": "code",
   "execution_count": 3,
   "id": "initial_id",
   "metadata": {
    "collapsed": true,
    "ExecuteTime": {
     "end_time": "2024-03-22T11:52:55.625635Z",
     "start_time": "2024-03-22T11:52:55.620069Z"
    }
   },
   "outputs": [],
   "source": [
    "import torch\n",
    "\n",
    "a = torch.tensor([\n",
    "    [1, 0, 0],\n",
    "    [0, 1, 0],\n",
    "    [0, 0, 1],\n",
    "])\n",
    "\n",
    "b = torch.tensor([\n",
    "    [3, 1, 3],\n",
    "    [1, 0, 1],\n",
    "    [3, 1, 3],\n",
    "])\n",
    "c = torch.tensor([\n",
    "    [1, 1, 1],\n",
    "    [0, 1, 1],\n",
    "    [0, 0, 1],\n",
    "])\n",
    "w1 = torch.tensor([1, 2, 1])\n",
    "w2 = torch.tensor([3, 4, 3])"
   ]
  },
  {
   "cell_type": "code",
   "outputs": [
    {
     "name": "stdout",
     "output_type": "stream",
     "text": [
      "a*b=tensor([[3, 0, 0],\n",
      "        [0, 0, 0],\n",
      "        [0, 0, 3]])\n",
      "\n",
      "torch.mul(a, b)=tensor([[3, 0, 0],\n",
      "        [0, 0, 0],\n",
      "        [0, 0, 3]])\n"
     ]
    }
   ],
   "source": [
    "res1 = a * b\n",
    "res11 = torch.mul(a, b)\n",
    "print(\"a*b={}\\n\".format(res1))\n",
    "print(\"torch.mul(a, b)={}\\n\".format(res11))"
   ],
   "metadata": {
    "collapsed": false,
    "ExecuteTime": {
     "end_time": "2024-03-22T11:52:56.279567Z",
     "start_time": "2024-03-22T11:52:56.274232Z"
    }
   },
   "id": "b121f0d9de05038b",
   "execution_count": 4
  },
  {
   "cell_type": "code",
   "outputs": [
    {
     "name": "stdout",
     "output_type": "stream",
     "text": [
      "a@b=tensor([[3, 1, 3],\n",
      "        [1, 0, 1],\n",
      "        [3, 1, 3]])\n",
      "\n",
      "torch.mm(a,b)=tensor([[3, 1, 3],\n",
      "        [1, 0, 1],\n",
      "        [3, 1, 3]])\n"
     ]
    }
   ],
   "source": [
    "res2 = a @ b\n",
    "res22 = torch.mm(a, b)\n",
    "print(\"a@b={}\\n\".format(res2))\n",
    "print(\"torch.mm(a,b)={}\\n\".format(res22))"
   ],
   "metadata": {
    "collapsed": false,
    "ExecuteTime": {
     "end_time": "2024-03-22T11:53:15.633870Z",
     "start_time": "2024-03-22T11:53:15.622627Z"
    }
   },
   "id": "62bcaac038ff9ba5",
   "execution_count": 5
  },
  {
   "cell_type": "code",
   "outputs": [
    {
     "name": "stdout",
     "output_type": "stream",
     "text": [
      "torch.mv(a, w1)=tensor([1, 2, 1])\n",
      "\n",
      "b @ w1=tensor([1, 2, 1])\n",
      "\n",
      "w1 @ b=tensor([1, 2, 1])\n"
     ]
    }
   ],
   "source": [
    "res3 = torch.mv(a, w1)\n",
    "print(\"torch.mv(a, w1)={}\\n\".format(res3))\n",
    "res4 = a @ w1\n",
    "print(\"b @ w1={}\\n\".format(res4))\n",
    "res5 = w1 @ a\n",
    "print(\"w1 @ b={}\\n\".format(res5))"
   ],
   "metadata": {
    "collapsed": false,
    "ExecuteTime": {
     "end_time": "2024-03-22T11:59:33.699801Z",
     "start_time": "2024-03-22T11:59:33.692241Z"
    }
   },
   "id": "8df66a12507015ae",
   "execution_count": 12
  },
  {
   "cell_type": "code",
   "outputs": [],
   "source": [],
   "metadata": {
    "collapsed": false
   },
   "id": "1daf6ada0b839b65"
  }
 ],
 "metadata": {
  "kernelspec": {
   "display_name": "Python 3",
   "language": "python",
   "name": "python3"
  },
  "language_info": {
   "codemirror_mode": {
    "name": "ipython",
    "version": 2
   },
   "file_extension": ".py",
   "mimetype": "text/x-python",
   "name": "python",
   "nbconvert_exporter": "python",
   "pygments_lexer": "ipython2",
   "version": "2.7.6"
  }
 },
 "nbformat": 4,
 "nbformat_minor": 5
}
