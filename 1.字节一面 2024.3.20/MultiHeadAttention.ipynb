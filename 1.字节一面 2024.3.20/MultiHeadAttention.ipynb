{
 "cells": [
  {
   "cell_type": "markdown",
   "source": [
    "# 多头注意力的实现"
   ],
   "metadata": {
    "collapsed": false
   },
   "id": "572f6374fdcaab25"
  },
  {
   "cell_type": "code",
   "outputs": [],
   "source": [
    "import math\n",
    "\n",
    "import torch\n",
    "import torch.nn as nn\n",
    "import torch.nn.functional as F"
   ],
   "metadata": {
    "collapsed": false
   },
   "id": "8ad926e98efdd12f"
  },
  {
   "cell_type": "code",
   "execution_count": null,
   "id": "initial_id",
   "metadata": {
    "collapsed": true
   },
   "outputs": [],
   "source": [
    "class MultiHeadAttention(nn.Module):\n",
    "    def __init__(self, d_model, num_heads):\n",
    "        super(MultiHeadAttention, self).__init__()\n",
    "        self.num_heads = num_heads\n",
    "        self.d_model = d_model\n",
    "        assert d_model % self.num_heads == 0\n",
    "\n",
    "        # Define the dimension of each head or subspace\n",
    "        self.d_k = d_model // self.num_heads\n",
    "\n",
    "        # These are still of dimension d_model. They will be split into number of heads \n",
    "        self.W_q = nn.Linear(d_model, d_model)\n",
    "        self.W_k = nn.Linear(d_model, d_model)\n",
    "        self.W_v = nn.Linear(d_model, d_model)\n",
    "\n",
    "        # Outputs of all sub-layers need to be of dimension d_model\n",
    "        self.W_o = nn.Linear(d_model, d_model)\n",
    "\n",
    "    def forward(self, q, k, v, mask=None):\n",
    "        batch_size = q.size(0)\n",
    "\n",
    "        # linear layers\n",
    "        q = self.W_q(q)\n",
    "        k = self.W_k(k)\n",
    "        v = self.W_v(v)\n",
    "\n",
    "        # split into multiple heads\n",
    "        q = q.view(batch_size, -1, self.num_heads, self.d_k).transpose(1, 2)\n",
    "        k = k.view(batch_size, -1, self.num_heads, self.d_k).transpose(1, 2)\n",
    "        v = v.view(batch_size, -1, self.num_heads, self.d_k).transpose(1, 2)\n",
    "\n",
    "        # self attention\n",
    "        # Scaling by d_k so that the soft(arg)max doesn't explode\n",
    "        # [Batch Size, num_heads, seq_len, d_k] * [Batch Size, num_heads, d_k, seq_len] = [Batch Size, num_heads, seq_len, seq_len]\n",
    "        QK = torch.matmul(q, k.transpose(-2, -1)) / math.sqrt(self.d_k)\n",
    "\n",
    "        # Apply the mask\n",
    "        if mask is not None:\n",
    "            QK = QK.masked_fill(mask.to(QK.dtype) == 0, float('-inf'))\n",
    "\n",
    "        # Calculate the attention weights (softmax over the last dimension)\n",
    "        weights = F.softmax(QK, dim=-1)\n",
    "\n",
    "        # Apply the self attention to the values\n",
    "        # [Batch Size, num_heads, seq_len, seq_len] * [Batch Size, num_heads, seq_len, d_k] = [Batch Size, num_heads, seq_len, d_k]\n",
    "        scores = torch.matmul(weights, v)\n",
    "\n",
    "        # concatenate heads \n",
    "        concat = scores.transpose(1, 2).view(batch_size, -1, self.d_model)\n",
    "\n",
    "        # final linear layer\n",
    "        output = self.W_o(concat)\n",
    "\n",
    "        return output, weights"
   ]
  }
 ],
 "metadata": {
  "kernelspec": {
   "display_name": "Python 3",
   "language": "python",
   "name": "python3"
  },
  "language_info": {
   "codemirror_mode": {
    "name": "ipython",
    "version": 2
   },
   "file_extension": ".py",
   "mimetype": "text/x-python",
   "name": "python",
   "nbconvert_exporter": "python",
   "pygments_lexer": "ipython2",
   "version": "2.7.6"
  }
 },
 "nbformat": 4,
 "nbformat_minor": 5
}
