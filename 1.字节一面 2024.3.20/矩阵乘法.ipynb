{
 "cells": [
  {
   "cell_type": "code",
   "outputs": [],
   "source": [
    "def matrix_multiplication(A, B):\n",
    "    nrows, ncols = len(A), len(B[0])\n",
    "    result = [[0] * ncols for _ in range(nrows)]\n",
    "\n",
    "    for i in range(nrows):\n",
    "        for j in range(ncols):\n",
    "            for k in range(len(B)):\n",
    "                result[i][j] += A[i][k] * B[k][j]\n",
    "\n",
    "    return result\n"
   ],
   "metadata": {
    "collapsed": false,
    "ExecuteTime": {
     "end_time": "2024-03-22T10:57:38.786513Z",
     "start_time": "2024-03-22T10:57:38.783698Z"
    }
   },
   "id": "e98a13e9dacc330e",
   "execution_count": 2
  },
  {
   "cell_type": "code",
   "outputs": [],
   "source": [
    "A = [[1, 2, 3], [1, 2, 3]]\n",
    "B = [[1, 2], [1, 2], [1, 2]]"
   ],
   "metadata": {
    "collapsed": false,
    "ExecuteTime": {
     "end_time": "2024-03-22T10:57:38.790253Z",
     "start_time": "2024-03-22T10:57:38.788167Z"
    }
   },
   "id": "d31e54f7a52fe75b",
   "execution_count": 3
  },
  {
   "cell_type": "code",
   "outputs": [
    {
     "data": {
      "text/plain": "[[6, 12], [6, 12]]"
     },
     "execution_count": 4,
     "metadata": {},
     "output_type": "execute_result"
    }
   ],
   "source": [
    "matrix_multiplication(A, B)"
   ],
   "metadata": {
    "collapsed": false,
    "ExecuteTime": {
     "end_time": "2024-03-22T10:57:38.801170Z",
     "start_time": "2024-03-22T10:57:38.797571Z"
    }
   },
   "id": "8280da9c77423240",
   "execution_count": 4
  }
 ],
 "metadata": {
  "kernelspec": {
   "display_name": "Python 3",
   "language": "python",
   "name": "python3"
  },
  "language_info": {
   "codemirror_mode": {
    "name": "ipython",
    "version": 2
   },
   "file_extension": ".py",
   "mimetype": "text/x-python",
   "name": "python",
   "nbconvert_exporter": "python",
   "pygments_lexer": "ipython2",
   "version": "2.7.6"
  }
 },
 "nbformat": 4,
 "nbformat_minor": 5
}
