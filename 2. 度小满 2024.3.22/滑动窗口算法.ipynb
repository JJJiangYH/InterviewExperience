{
 "cells": [
  {
   "cell_type": "code",
   "execution_count": 69,
   "id": "initial_id",
   "metadata": {
    "collapsed": true,
    "ExecuteTime": {
     "end_time": "2024-03-24T09:37:20.839051Z",
     "start_time": "2024-03-24T09:37:20.834089Z"
    }
   },
   "outputs": [],
   "source": [
    "def _max(nums: list, k: int) -> int:\n",
    "    if not nums:\n",
    "        return 0\n",
    "\n",
    "    look_up = sorted(nums[:k])\n",
    "\n",
    "    n = len(nums)\n",
    "    left = 0\n",
    "    right = k\n",
    "\n",
    "    result = []\n",
    "\n",
    "    while right < n:\n",
    "        result.append(look_up[-1])\n",
    "\n",
    "        look_up.remove(nums[left])\n",
    "        left += 1\n",
    "\n",
    "        look_up.append(nums[right])\n",
    "        look_up.sort()\n",
    "        right += 1\n",
    "\n",
    "    result.append(look_up[-1])\n",
    "\n",
    "    return result"
   ]
  },
  {
   "cell_type": "code",
   "outputs": [
    {
     "data": {
      "text/plain": "[3, 3, 5, 5, 6, 7]"
     },
     "execution_count": 70,
     "metadata": {},
     "output_type": "execute_result"
    }
   ],
   "source": [
    "_max([1, 3, -1, -3, 5, 3, 6, 7], 3)"
   ],
   "metadata": {
    "collapsed": false,
    "ExecuteTime": {
     "end_time": "2024-03-24T09:37:21.015694Z",
     "start_time": "2024-03-24T09:37:21.011383Z"
    }
   },
   "id": "8eed8e8522365520",
   "execution_count": 70
  },
  {
   "cell_type": "code",
   "outputs": [],
   "source": [],
   "metadata": {
    "collapsed": false
   },
   "id": "ef1038fb11f80e85"
  }
 ],
 "metadata": {
  "kernelspec": {
   "display_name": "Python 3",
   "language": "python",
   "name": "python3"
  },
  "language_info": {
   "codemirror_mode": {
    "name": "ipython",
    "version": 2
   },
   "file_extension": ".py",
   "mimetype": "text/x-python",
   "name": "python",
   "nbconvert_exporter": "python",
   "pygments_lexer": "ipython2",
   "version": "2.7.6"
  }
 },
 "nbformat": 4,
 "nbformat_minor": 5
}
